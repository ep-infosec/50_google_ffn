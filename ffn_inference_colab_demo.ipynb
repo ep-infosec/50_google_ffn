{
  "nbformat": 4,
  "nbformat_minor": 0,
  "metadata": {
    "kernelspec": {
      "display_name": "Python 3",
      "language": "python",
      "name": "python3"
    },
    "language_info": {
      "codemirror_mode": {
        "name": "ipython",
        "version": 3
      },
      "file_extension": ".py",
      "mimetype": "text/x-python",
      "name": "python",
      "nbconvert_exporter": "python",
      "pygments_lexer": "ipython3",
      "version": "3.6.1"
    },
    "colab": {
      "name": "ffn_inference_colab_demo.ipynb",
      "provenance": [],
      "collapsed_sections": []
    },
    "accelerator": "GPU"
  },
  "cells": [
    {
      "cell_type": "markdown",
      "metadata": {
        "id": "hH96Y3Hy0-2k"
      },
      "source": [
        "# Load TensorFlow\n",
        "Go to Edit->Notebook settings to confirm you have a GPU accelerated kernel."
      ]
    },
    {
      "cell_type": "code",
      "metadata": {
        "id": "twblZNEluvRS"
      },
      "source": [
        "%tensorflow_version 1.x\n",
        "import tensorflow as tf\n",
        "print(tf.__version__)\n",
        "\n",
        "# Silence deprecation warnings for now.\n",
        "tf.logging.set_verbosity(tf.logging.ERROR)"
      ],
      "execution_count": null,
      "outputs": []
    },
    {
      "cell_type": "code",
      "metadata": {
        "id": "PvBuiR5aNLDo"
      },
      "source": [
        "device_name = tf.test.gpu_device_name()\n",
        "if device_name != '/device:GPU:0':\n",
        "  print('GPU device not found')\n",
        "  gpu = False\n",
        "else:\n",
        "  print('Found GPU at: {}'.format(device_name))\n",
        "  gpu = True"
      ],
      "execution_count": null,
      "outputs": []
    },
    {
      "cell_type": "markdown",
      "metadata": {
        "id": "JDwEFdwd1ZTg"
      },
      "source": [
        "# Set up FFN code and sample data\n",
        "Colab already provides most of the dependencies."
      ]
    },
    {
      "cell_type": "code",
      "metadata": {
        "id": "zTxMsgEdsU9v"
      },
      "source": [
        "!git clone https://github.com/google/ffn.git\n",
        "%cd ffn"
      ],
      "execution_count": null,
      "outputs": []
    },
    {
      "cell_type": "code",
      "metadata": {
        "collapsed": true,
        "id": "ZQuzMPCfupBh"
      },
      "source": [
        "from google.protobuf import text_format\n",
        "from ffn.inference import inference\n",
        "from ffn.inference import inference_pb2"
      ],
      "execution_count": null,
      "outputs": []
    },
    {
      "cell_type": "code",
      "metadata": {
        "id": "GNLArYVlvchC"
      },
      "source": [
        "# Download the example datasets.\n",
        "!mkdir -p third_party/neuroproof_examples\n",
        "!gsutil rsync -r -x \".*.gz\" gs://ffn-flyem-fib25/ third_party/neuroproof_examples/"
      ],
      "execution_count": null,
      "outputs": []
    },
    {
      "cell_type": "markdown",
      "metadata": {
        "id": "c-Ua5AC41e9J"
      },
      "source": [
        "# Run inference"
      ]
    },
    {
      "cell_type": "code",
      "metadata": {
        "collapsed": true,
        "id": "c5Am7tyqupBl"
      },
      "source": [
        "config = '''image {\n",
        "  hdf5: \"third_party/neuroproof_examples/training_sample2/grayscale_maps.h5:raw\"\n",
        "}\n",
        "image_mean: 128\n",
        "image_stddev: 33\n",
        "checkpoint_interval: 1800\n",
        "seed_policy: \"PolicyPeaks\"\n",
        "model_checkpoint_path: \"models/fib25/model.ckpt-27465036\"\n",
        "model_name: \"convstack_3d.ConvStack3DFFNModel\"\n",
        "model_args: \"{\\\\\"depth\\\\\": 12, \\\\\"fov_size\\\\\": [33, 33, 33], \\\\\"deltas\\\\\": [8, 8, 8]}\"\n",
        "segmentation_output_dir: \"results/fib25/training2\"\n",
        "inference_options {\n",
        "  init_activation: 0.95\n",
        "  pad_value: 0.05\n",
        "  move_threshold: 0.9\n",
        "  min_boundary_dist { x: 1 y: 1 z: 1}\n",
        "  segment_threshold: 0.6\n",
        "  min_segment_size: 1000\n",
        "}'''\n",
        "req = inference_pb2.InferenceRequest()\n",
        "_ = text_format.Parse(config, req)"
      ],
      "execution_count": null,
      "outputs": []
    },
    {
      "cell_type": "code",
      "metadata": {
        "id": "41hGGWWwupBm"
      },
      "source": [
        "runner = inference.Runner()\n",
        "runner.start(req)\n",
        "canvas, alignment = runner.make_canvas((0, 0, 0), (250, 250, 250))"
      ],
      "execution_count": null,
      "outputs": []
    },
    {
      "cell_type": "code",
      "metadata": {
        "id": "lhPuUamfupBm"
      },
      "source": [
        "# Create a single segment, starting from the specified origin point.\n",
        "if gpu:\n",
        "  vis_update = 20\n",
        "else:\n",
        "  vis_update = 1\n",
        "canvas.segment_at((125, 125, 125),  # zyx\n",
        "                  dynamic_image=inference.DynamicImage(),\n",
        "                  vis_update_every=vis_update)"
      ],
      "execution_count": null,
      "outputs": []
    }
  ]
}
